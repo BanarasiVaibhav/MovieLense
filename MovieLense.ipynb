{
 "cells": [
  {
   "cell_type": "markdown",
   "metadata": {},
   "source": [
    "# Analyzing MovieLens data \n",
    "In this notebook I am going to analyze the MOvieLens data that can be found on kaggle\n",
    "link -  https://www.kaggle.com/grouplens/movielens-20m-dataset\n",
    "\n",
    "I chose this dataset because I was intrested in movies and how often movies get high ratings\n",
    "\n",
    "My blog post can be found on https://medium.com/@VaibhavKumarTiwari/what-movies-data-set-wants-to-say-562b1189ecf8\n"
   ]
  },
  {
   "cell_type": "markdown",
   "metadata": {},
   "source": [
    "#### Business Understanding\n",
    "Based on the data available can we find \n",
    "\n",
    "1)Most popular genres\n",
    "\n",
    "2)Top 10 highly rated movies\n",
    "\n",
    "3)How ratings are distributed"
   ]
  },
  {
   "cell_type": "code",
   "execution_count": null,
   "metadata": {},
   "outputs": [],
   "source": [
    "# importing the Libraries\n",
    "import numpy as np\n",
    "import pandas as pd\n",
    "import matplotlib as plt\n",
    "import seaborn as sns"
   ]
  },
  {
   "cell_type": "code",
   "execution_count": null,
   "metadata": {},
   "outputs": [],
   "source": [
    "# Getting the movie data set\n",
    "movies= pd.read_csv('movies.csv')\n",
    "ratings_df= pd.read_csv('ratings.csv')"
   ]
  },
  {
   "cell_type": "markdown",
   "metadata": {},
   "source": [
    "### Data Understanding"
   ]
  },
  {
   "cell_type": "code",
   "execution_count": null,
   "metadata": {},
   "outputs": [],
   "source": [
    "#getting the shape of our movies dataframe\n",
    "movies.shape"
   ]
  },
  {
   "cell_type": "code",
   "execution_count": null,
   "metadata": {},
   "outputs": [],
   "source": [
    "# Descriptive Statistics\n",
    "movies.describe()"
   ]
  },
  {
   "cell_type": "code",
   "execution_count": null,
   "metadata": {},
   "outputs": [],
   "source": [
    "# Getting the data type and null values in our dataset\n",
    "movies.info()\n",
    "#So the data contains no null values in movies data fram "
   ]
  },
  {
   "cell_type": "code",
   "execution_count": null,
   "metadata": {},
   "outputs": [],
   "source": [
    "# knowing the content present in the dataset\n",
    "movies.head()"
   ]
  },
  {
   "cell_type": "code",
   "execution_count": null,
   "metadata": {},
   "outputs": [],
   "source": [
    "# now data understanding of ratings dataframe"
   ]
  },
  {
   "cell_type": "code",
   "execution_count": null,
   "metadata": {},
   "outputs": [],
   "source": [
    "#getting the shape of our movies dataframe\n",
    "ratings_df.shape"
   ]
  },
  {
   "cell_type": "code",
   "execution_count": null,
   "metadata": {
    "scrolled": true
   },
   "outputs": [],
   "source": [
    "# knowing the content present in the dataset\n",
    "ratings_df.head()"
   ]
  },
  {
   "cell_type": "code",
   "execution_count": null,
   "metadata": {},
   "outputs": [],
   "source": [
    "# Getting the data type and null values in our dataset\n",
    "ratings_df.info()\n",
    "#So the data contains no null values in movies data fram "
   ]
  },
  {
   "cell_type": "code",
   "execution_count": null,
   "metadata": {},
   "outputs": [],
   "source": [
    "# Descriptive Statistics\n",
    "movies.describe()"
   ]
  },
  {
   "cell_type": "markdown",
   "metadata": {},
   "source": [
    "### Data preparation\n"
   ]
  },
  {
   "cell_type": "code",
   "execution_count": null,
   "metadata": {},
   "outputs": [],
   "source": [
    "# Luckily our data contains no null values and our data set is quiet well structures\n",
    "# All we need to do is two task\n",
    "#        1)add a new column 'Year' in the movies dataset\n",
    "#        2)Add new genres dataframe"
   ]
  },
  {
   "cell_type": "code",
   "execution_count": null,
   "metadata": {},
   "outputs": [],
   "source": [
    "# adding year column from movie data\n",
    "movies['year'] =movies['title'].str.extract('.*\\((.*)\\).*',expand = False)\n",
    "movies"
   ]
  },
  {
   "cell_type": "markdown",
   "metadata": {},
   "source": [
    "### Modeling data"
   ]
  },
  {
   "cell_type": "code",
   "execution_count": null,
   "metadata": {},
   "outputs": [],
   "source": [
    "# now the goal is to find out how many times each genres appear\n",
    "genres_df=movies['genres'].str.split('|',expand=True)   \n",
    "genres_df"
   ]
  },
  {
   "cell_type": "code",
   "execution_count": null,
   "metadata": {},
   "outputs": [],
   "source": [
    "# this code below finds the number of occurence of a genres in the data set\n",
    "# it returns dictionary item with kes as genres name and value as the number of occurence\n",
    "\n",
    "counter_dict={}\n",
    "\n",
    "for i in range(10):\n",
    "    for j in range(62423):    \n",
    "        if genres_df[i][j] == None:\n",
    "            continue\n",
    "        if genres_df[i][j] not in counter_dict.keys():\n",
    "                counter_dict[genres_df[i][j]]=1\n",
    "        else:\n",
    "            counter_dict[genres_df[i][j]]+=1\n",
    "        \n",
    "print(counter_dict)"
   ]
  },
  {
   "cell_type": "markdown",
   "metadata": {},
   "source": [
    "# 1 Which is the most popular genres"
   ]
  },
  {
   "cell_type": "code",
   "execution_count": null,
   "metadata": {},
   "outputs": [],
   "source": [
    "# to plot the data we need to change data type from dictionary to panda series\n",
    "plotting_data=pd.Series(counter_dict)"
   ]
  },
  {
   "cell_type": "code",
   "execution_count": null,
   "metadata": {},
   "outputs": [],
   "source": [
    "plotting_data.plot(kind='bar',figsize=(15,6));"
   ]
  },
  {
   "cell_type": "markdown",
   "metadata": {},
   "source": [
    "# 2 What are the top 10 highly rated movies\n",
    "Our goal is to find highly rated movie with minimum 50 reviews\n",
    "and plotting its bargraph"
   ]
  },
  {
   "cell_type": "code",
   "execution_count": null,
   "metadata": {},
   "outputs": [],
   "source": [
    "# Importing the data set \n",
    "ratings_df= pd.read_csv('ratings.csv')\n",
    "movies= pd.read_csv('movies.csv')"
   ]
  },
  {
   "cell_type": "code",
   "execution_count": null,
   "metadata": {},
   "outputs": [],
   "source": [
    "#Adding and renaming columns of min max and mean \n",
    "ratings_df = ratings_df \\\n",
    "    .groupby('movieId') \\\n",
    "    .agg({'rating': ['size', 'min', 'max', 'mean']})\n",
    "\n",
    "ratings_df.columns = ['_'.join(col) \\\n",
    "                           for col in ratings_df.columns]"
   ]
  },
  {
   "cell_type": "code",
   "execution_count": null,
   "metadata": {},
   "outputs": [],
   "source": [
    "useful=ratings_df[ratings_df['rating_size']>50]\n",
    "useful=useful.sort_values(by=['rating_mean']).tail(10)"
   ]
  },
  {
   "cell_type": "code",
   "execution_count": null,
   "metadata": {},
   "outputs": [],
   "source": [
    "top_movies=pd.merge(useful,movies,how='inner',on='movieId')\n",
    "plotting_data=top_movies.drop(['rating_size','rating_min','rating_max','genres','movieId'],axis=1)"
   ]
  },
  {
   "cell_type": "code",
   "execution_count": null,
   "metadata": {},
   "outputs": [],
   "source": [
    "plotting_data=plotting_data.sort_values(by='rating_mean',ascending=False)"
   ]
  },
  {
   "cell_type": "code",
   "execution_count": null,
   "metadata": {},
   "outputs": [],
   "source": [
    "chart=sns.barplot(x=plotting_data['title'],y=plotting_data['rating_mean'],)\n",
    "chart.set_xticklabels(chart.get_xticklabels(), rotation=45,horizontalalignment='right');"
   ]
  },
  {
   "cell_type": "markdown",
   "metadata": {},
   "source": [
    "# 3 How ratings are distributed\n",
    "\n",
    "We are looking if all ratings get equal number of reviews"
   ]
  },
  {
   "cell_type": "code",
   "execution_count": null,
   "metadata": {},
   "outputs": [],
   "source": [
    "ratings_df= pd.read_csv('ratings.csv')"
   ]
  },
  {
   "cell_type": "code",
   "execution_count": null,
   "metadata": {},
   "outputs": [],
   "source": [
    "ratings_df['rating'].plot(kind='hist',figsize=(15,8));"
   ]
  }
 ],
 "metadata": {
  "kernelspec": {
   "display_name": "Python 3",
   "language": "python",
   "name": "python3"
  },
  "language_info": {
   "codemirror_mode": {
    "name": "ipython",
    "version": 3
   },
   "file_extension": ".py",
   "mimetype": "text/x-python",
   "name": "python",
   "nbconvert_exporter": "python",
   "pygments_lexer": "ipython3",
   "version": "3.7.3"
  }
 },
 "nbformat": 4,
 "nbformat_minor": 2
}
